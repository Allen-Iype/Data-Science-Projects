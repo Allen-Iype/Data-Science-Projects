{
 "cells": [
  {
   "cell_type": "code",
   "execution_count": 2,
   "id": "47508dd0",
   "metadata": {},
   "outputs": [],
   "source": [
    "import pandas as pd\n",
    "import numpy as np\n",
    "import matplotlib.pyplot as plt\n",
    "import seaborn as sns"
   ]
  },
  {
   "cell_type": "markdown",
   "id": "0a0e8c42",
   "metadata": {},
   "source": [
    "# Reading The Dataset"
   ]
  },
  {
   "cell_type": "code",
   "execution_count": 3,
   "id": "31574e17",
   "metadata": {},
   "outputs": [],
   "source": [
    "df = pd.read_csv('cars_data.csv')"
   ]
  },
  {
   "cell_type": "markdown",
   "id": "a7309b2e",
   "metadata": {},
   "source": [
    "# Displaying the Dataset"
   ]
  },
  {
   "cell_type": "code",
   "execution_count": 4,
   "id": "d23676d1",
   "metadata": {},
   "outputs": [
    {
     "name": "stdout",
     "output_type": "stream",
     "text": [
      "         Make        Model    Nickname Car Gender Buyer Gender  Buyer Age  \\\n",
      "0      Suzuki       Vitara  Philippine     Female       Female         51   \n",
      "1       Honda        S2000      Henrik       Male         Male         30   \n",
      "2         BMW           Z4      Lebbie       Male       Female         54   \n",
      "3      Toyota       Tacoma    Jefferey     Female         Male         68   \n",
      "4        Ford      Festiva     Glendon     Female         Male         70   \n",
      "...       ...          ...         ...        ...          ...        ...   \n",
      "9995    Mazda      Tribute      Cooper       Male         Male         44   \n",
      "9996      GMC  Sierra 2500         Dud       Male         Male         40   \n",
      "9997  Mercury      Mariner     Chariot       Male         Male         37   \n",
      "9998   Daewoo      Leganza       Dynah     Female       Female         21   \n",
      "9999   Toyota      Sequoia    Zedekiah     Female         Male         21   \n",
      "\n",
      "           Buzzword      Country             City  Dealer Latitude  \\\n",
      "0     User-friendly      Belgium        Antwerpen        51.247239   \n",
      "1         analyzing        China            Jinhu        33.025433   \n",
      "2          software        China             Gemo        30.916207   \n",
      "3        monitoring     Portugal  Queluz de Baixo        38.745168   \n",
      "4          Sharable       Latvia         Jaunpils        56.729980   \n",
      "...             ...          ...              ...              ...   \n",
      "9995       hardware     Pakistan  Chishtiān Mandi        29.919386   \n",
      "9996       Enhanced   Costa Rica          Ángeles        10.075000   \n",
      "9997     monitoring       Poland        Dąbrowice        52.311923   \n",
      "9998       cohesive  Philippines         Villasis        15.901640   \n",
      "9999      analyzing  Philippines            Basud        14.048167   \n",
      "\n",
      "      Dealer Longitude    Color  New Car Purchase Date  Sale Price  Discount  \\\n",
      "0             4.440346   Yellow    False    19/07/2009    54806.14    0.2467   \n",
      "1           119.020584  Crimson    False    26/10/2015    51826.30    0.3147   \n",
      "2           121.677640    Khaki    False    28/03/2010    82929.14    0.5414   \n",
      "3            -9.267087     Puce    False    07/05/2008    56928.66    0.0850   \n",
      "4            23.016588   Yellow    False    01/06/2008    77201.26    0.1642   \n",
      "...                ...      ...      ...           ...         ...       ...   \n",
      "9995         73.074787     Pink    False    05/01/2020    58580.65    0.1611   \n",
      "9996        -84.241523     Puce    False    28/12/2005    75229.74    0.2691   \n",
      "9997         19.084965     Blue    False    08/03/2013    34755.44    0.2493   \n",
      "9998        120.587828     Teal     True    21/02/2008    98725.42    0.4654   \n",
      "9999        122.955697     Pink    False    16/12/2017    96769.78    0.5446   \n",
      "\n",
      "      Resell Price  5-yr Depreciation  Top Speed  0-60 Time  \n",
      "0         33858.32               0.13      200.9       11.5  \n",
      "1          2989.28               0.02      158.5        8.8  \n",
      "2         35049.16               0.24      149.5       14.4  \n",
      "3          8236.15               0.20      153.3       11.5  \n",
      "4         32765.76               0.18      122.0       14.9  \n",
      "...            ...                ...        ...        ...  \n",
      "9995      42640.82               0.14      245.8        8.0  \n",
      "9996      21115.58               0.11      147.4       12.3  \n",
      "9997       2731.25               0.12      198.1       11.8  \n",
      "9998      18718.58               0.04      206.7       12.2  \n",
      "9999       4545.95               0.07      242.1        3.2  \n",
      "\n",
      "[10000 rows x 20 columns]\n"
     ]
    }
   ],
   "source": [
    "print(df)"
   ]
  },
  {
   "cell_type": "markdown",
   "id": "f8ecc543",
   "metadata": {},
   "source": [
    "# Checking For Null Values"
   ]
  },
  {
   "cell_type": "code",
   "execution_count": 5,
   "id": "79693472",
   "metadata": {},
   "outputs": [
    {
     "name": "stdout",
     "output_type": "stream",
     "text": [
      "<class 'pandas.core.frame.DataFrame'>\n",
      "RangeIndex: 10000 entries, 0 to 9999\n",
      "Data columns (total 20 columns):\n",
      " #   Column             Non-Null Count  Dtype  \n",
      "---  ------             --------------  -----  \n",
      " 0   Make               10000 non-null  object \n",
      " 1   Model              10000 non-null  object \n",
      " 2   Nickname           10000 non-null  object \n",
      " 3   Car Gender         10000 non-null  object \n",
      " 4   Buyer Gender       10000 non-null  object \n",
      " 5   Buyer Age          10000 non-null  int64  \n",
      " 6   Buzzword           10000 non-null  object \n",
      " 7   Country            10000 non-null  object \n",
      " 8   City               10000 non-null  object \n",
      " 9   Dealer Latitude    10000 non-null  float64\n",
      " 10  Dealer Longitude   10000 non-null  float64\n",
      " 11  Color              10000 non-null  object \n",
      " 12  New Car            10000 non-null  bool   \n",
      " 13  Purchase Date      10000 non-null  object \n",
      " 14  Sale Price         10000 non-null  float64\n",
      " 15  Discount           10000 non-null  float64\n",
      " 16  Resell Price       10000 non-null  float64\n",
      " 17  5-yr Depreciation  10000 non-null  float64\n",
      " 18  Top Speed          10000 non-null  float64\n",
      " 19  0-60 Time          10000 non-null  float64\n",
      "dtypes: bool(1), float64(8), int64(1), object(10)\n",
      "memory usage: 1.5+ MB\n"
     ]
    }
   ],
   "source": [
    "df.info()"
   ]
  },
  {
   "cell_type": "code",
   "execution_count": 6,
   "id": "9becc34a",
   "metadata": {},
   "outputs": [],
   "source": [
    "#From this we can infer that no null value is present in any of the columns."
   ]
  },
  {
   "cell_type": "markdown",
   "id": "184ff36e",
   "metadata": {},
   "source": [
    "# Bar graph of Male vs Female buyers participated in the sales."
   ]
  },
  {
   "cell_type": "code",
   "execution_count": 7,
   "id": "998b567f",
   "metadata": {},
   "outputs": [
    {
     "data": {
      "text/plain": [
       "Female    5052\n",
       "Male      4948\n",
       "Name: Buyer Gender, dtype: int64"
      ]
     },
     "execution_count": 7,
     "metadata": {},
     "output_type": "execute_result"
    }
   ],
   "source": [
    "#Finding the count of each Gender\n",
    "df['Buyer Gender'].value_counts()"
   ]
  },
  {
   "cell_type": "code",
   "execution_count": 18,
   "id": "750746cf",
   "metadata": {},
   "outputs": [],
   "source": [
    "#Saving the count to a different dataframe\n",
    "df_bar_chart = pd.DataFrame((('Male',4948),('Female',5052)),columns=['Buyer Gender','Count'])"
   ]
  },
  {
   "cell_type": "code",
   "execution_count": 14,
   "id": "0458a9a5",
   "metadata": {},
   "outputs": [
    {
     "name": "stdout",
     "output_type": "stream",
     "text": [
      "              Count\n",
      "Buyer Gender       \n",
      "Female         5052\n",
      "Male           4948\n"
     ]
    }
   ],
   "source": [
    "print(df_bar_chart)"
   ]
  },
  {
   "cell_type": "code",
   "execution_count": 40,
   "id": "e555be73",
   "metadata": {},
   "outputs": [
    {
     "data": {
      "image/png": "[encoded data removed]",
      "text/plain": [
       "<Figure size 432x288 with 1 Axes>"
      ]
     },
     "metadata": {},
     "output_type": "display_data"
    }
   ],
   "source": [
    "#Plotting the Bar Chart\n",
    "sns.set_theme(style='whitegrid')\n",
    "sns.barplot(x='Buyer Gender',y='Count',data=df_bar_chart).set(title='Male v/s Female Buyers participated in the sales.')\n",
    "plt.xlabel('Gender of The Buyers')\n",
    "plt.ylabel('Number of Buyers participated in the sales')\n",
    "plt.show()\n",
    "\n"
   ]
  },
  {
   "cell_type": "markdown",
   "id": "a1afeea0",
   "metadata": {},
   "source": [
    "# Top 5 cars by Sale Price"
   ]
  },
  {
   "cell_type": "code",
   "execution_count": 46,
   "id": "d0047b27",
   "metadata": {},
   "outputs": [],
   "source": [
    "df_cars_by_sale_price = df[['Make','Model','Sale Price']]"
   ]
  },
  {
   "cell_type": "code",
   "execution_count": 47,
   "id": "a5728b0e",
   "metadata": {},
   "outputs": [
    {
     "name": "stdout",
     "output_type": "stream",
     "text": [
      "         Make        Model  Sale Price\n",
      "0      Suzuki       Vitara    54806.14\n",
      "1       Honda        S2000    51826.30\n",
      "2         BMW           Z4    82929.14\n",
      "3      Toyota       Tacoma    56928.66\n",
      "4        Ford      Festiva    77201.26\n",
      "...       ...          ...         ...\n",
      "9995    Mazda      Tribute    58580.65\n",
      "9996      GMC  Sierra 2500    75229.74\n",
      "9997  Mercury      Mariner    34755.44\n",
      "9998   Daewoo      Leganza    98725.42\n",
      "9999   Toyota      Sequoia    96769.78\n",
      "\n",
      "[10000 rows x 3 columns]\n"
     ]
    }
   ],
   "source": [
    "print(df_cars_by_sale_price)"
   ]
  },
  {
   "cell_type": "code",
   "execution_count": 49,
   "id": "0831a9b8",
   "metadata": {},
   "outputs": [],
   "source": [
    "df_sorted = df_cars_by_sale_price.sort_values('Sale Price')"
   ]
  },
  {
   "cell_type": "code",
   "execution_count": 50,
   "id": "b9b513a2",
   "metadata": {},
   "outputs": [
    {
     "data": {
      "text/html": [
       "<div>\n",
       "<style scoped>\n",
       "    .dataframe tbody tr th:only-of-type {\n",
       "        vertical-align: middle;\n",
       "    }\n",
       "\n",
       "    .dataframe tbody tr th {\n",
       "        vertical-align: top;\n",
       "    }\n",
       "\n",
       "    .dataframe thead th {\n",
       "        text-align: right;\n",
       "    }\n",
       "</style>\n",
       "<table border=\"1\" class=\"dataframe\">\n",
       "  <thead>\n",
       "    <tr style=\"text-align: right;\">\n",
       "      <th></th>\n",
       "      <th>Make</th>\n",
       "      <th>Model</th>\n",
       "      <th>Sale Price</th>\n",
       "    </tr>\n",
       "  </thead>\n",
       "  <tbody>\n",
       "    <tr>\n",
       "      <th>3513</th>\n",
       "      <td>Geo</td>\n",
       "      <td>Tracker</td>\n",
       "      <td>10003.76</td>\n",
       "    </tr>\n",
       "    <tr>\n",
       "      <th>7234</th>\n",
       "      <td>Ford</td>\n",
       "      <td>Excursion</td>\n",
       "      <td>10019.95</td>\n",
       "    </tr>\n",
       "    <tr>\n",
       "      <th>5956</th>\n",
       "      <td>Mazda</td>\n",
       "      <td>Mazda6</td>\n",
       "      <td>10023.85</td>\n",
       "    </tr>\n",
       "    <tr>\n",
       "      <th>6270</th>\n",
       "      <td>Nissan</td>\n",
       "      <td>240SX</td>\n",
       "      <td>10024.86</td>\n",
       "    </tr>\n",
       "    <tr>\n",
       "      <th>6241</th>\n",
       "      <td>Lincoln</td>\n",
       "      <td>Continental Mark VII</td>\n",
       "      <td>10039.82</td>\n",
       "    </tr>\n",
       "  </tbody>\n",
       "</table>\n",
       "</div>"
      ],
      "text/plain": [
       "         Make                 Model  Sale Price\n",
       "3513      Geo               Tracker    10003.76\n",
       "7234     Ford             Excursion    10019.95\n",
       "5956    Mazda                Mazda6    10023.85\n",
       "6270   Nissan                 240SX    10024.86\n",
       "6241  Lincoln  Continental Mark VII    10039.82"
      ]
     },
     "execution_count": 50,
     "metadata": {},
     "output_type": "execute_result"
    }
   ],
   "source": [
    "df_sorted.head()"
   ]
  },
  {
   "cell_type": "code",
   "execution_count": 51,
   "id": "f3ed5729",
   "metadata": {},
   "outputs": [],
   "source": [
    "#This is the 5 cars which have the least sale price."
   ]
  },
  {
   "cell_type": "code",
   "execution_count": 52,
   "id": "a9cc2788",
   "metadata": {},
   "outputs": [
    {
     "data": {
      "text/html": [
       "<div>\n",
       "<style scoped>\n",
       "    .dataframe tbody tr th:only-of-type {\n",
       "        vertical-align: middle;\n",
       "    }\n",
       "\n",
       "    .dataframe tbody tr th {\n",
       "        vertical-align: top;\n",
       "    }\n",
       "\n",
       "    .dataframe thead th {\n",
       "        text-align: right;\n",
       "    }\n",
       "</style>\n",
       "<table border=\"1\" class=\"dataframe\">\n",
       "  <thead>\n",
       "    <tr style=\"text-align: right;\">\n",
       "      <th></th>\n",
       "      <th>Make</th>\n",
       "      <th>Model</th>\n",
       "      <th>Sale Price</th>\n",
       "    </tr>\n",
       "  </thead>\n",
       "  <tbody>\n",
       "    <tr>\n",
       "      <th>302</th>\n",
       "      <td>Lexus</td>\n",
       "      <td>ES</td>\n",
       "      <td>99973.44</td>\n",
       "    </tr>\n",
       "    <tr>\n",
       "      <th>9032</th>\n",
       "      <td>Mazda</td>\n",
       "      <td>MX-6</td>\n",
       "      <td>99978.17</td>\n",
       "    </tr>\n",
       "    <tr>\n",
       "      <th>3460</th>\n",
       "      <td>Lexus</td>\n",
       "      <td>LX</td>\n",
       "      <td>99983.38</td>\n",
       "    </tr>\n",
       "    <tr>\n",
       "      <th>1270</th>\n",
       "      <td>Audi</td>\n",
       "      <td>A6</td>\n",
       "      <td>99991.91</td>\n",
       "    </tr>\n",
       "    <tr>\n",
       "      <th>5984</th>\n",
       "      <td>Volkswagen</td>\n",
       "      <td>Jetta III</td>\n",
       "      <td>99997.65</td>\n",
       "    </tr>\n",
       "  </tbody>\n",
       "</table>\n",
       "</div>"
      ],
      "text/plain": [
       "            Make      Model  Sale Price\n",
       "302        Lexus         ES    99973.44\n",
       "9032       Mazda       MX-6    99978.17\n",
       "3460       Lexus         LX    99983.38\n",
       "1270        Audi         A6    99991.91\n",
       "5984  Volkswagen  Jetta III    99997.65"
      ]
     },
     "execution_count": 52,
     "metadata": {},
     "output_type": "execute_result"
    }
   ],
   "source": [
    "df_sorted.tail()"
   ]
  },
  {
   "cell_type": "code",
   "execution_count": 53,
   "id": "eeafcd2f",
   "metadata": {},
   "outputs": [],
   "source": [
    "#This is the 5 cars which have the highest sale price."
   ]
  },
  {
   "cell_type": "markdown",
   "id": "72f0545c",
   "metadata": {},
   "source": [
    "# Least 5 cars based on Resell price"
   ]
  },
  {
   "cell_type": "code",
   "execution_count": 54,
   "id": "6b55be80",
   "metadata": {},
   "outputs": [],
   "source": [
    "df_cars_by_resell_price = df[['Make','Model','Resell Price']]"
   ]
  },
  {
   "cell_type": "code",
   "execution_count": 55,
   "id": "5979933a",
   "metadata": {},
   "outputs": [
    {
     "name": "stdout",
     "output_type": "stream",
     "text": [
      "         Make        Model  Resell Price\n",
      "0      Suzuki       Vitara      33858.32\n",
      "1       Honda        S2000       2989.28\n",
      "2         BMW           Z4      35049.16\n",
      "3      Toyota       Tacoma       8236.15\n",
      "4        Ford      Festiva      32765.76\n",
      "...       ...          ...           ...\n",
      "9995    Mazda      Tribute      42640.82\n",
      "9996      GMC  Sierra 2500      21115.58\n",
      "9997  Mercury      Mariner       2731.25\n",
      "9998   Daewoo      Leganza      18718.58\n",
      "9999   Toyota      Sequoia       4545.95\n",
      "\n",
      "[10000 rows x 3 columns]\n"
     ]
    }
   ],
   "source": [
    "print(df_cars_by_resell_price)"
   ]
  },
  {
   "cell_type": "code",
   "execution_count": 57,
   "id": "4431ad30",
   "metadata": {},
   "outputs": [],
   "source": [
    "resell_sorted = df_cars_by_resell_price.sort_values('Resell Price')"
   ]
  },
  {
   "cell_type": "code",
   "execution_count": 58,
   "id": "fb431a05",
   "metadata": {},
   "outputs": [
    {
     "data": {
      "text/html": [
       "<div>\n",
       "<style scoped>\n",
       "    .dataframe tbody tr th:only-of-type {\n",
       "        vertical-align: middle;\n",
       "    }\n",
       "\n",
       "    .dataframe tbody tr th {\n",
       "        vertical-align: top;\n",
       "    }\n",
       "\n",
       "    .dataframe thead th {\n",
       "        text-align: right;\n",
       "    }\n",
       "</style>\n",
       "<table border=\"1\" class=\"dataframe\">\n",
       "  <thead>\n",
       "    <tr style=\"text-align: right;\">\n",
       "      <th></th>\n",
       "      <th>Make</th>\n",
       "      <th>Model</th>\n",
       "      <th>Resell Price</th>\n",
       "    </tr>\n",
       "  </thead>\n",
       "  <tbody>\n",
       "    <tr>\n",
       "      <th>2446</th>\n",
       "      <td>Chevrolet</td>\n",
       "      <td>1500</td>\n",
       "      <td>2000.84</td>\n",
       "    </tr>\n",
       "    <tr>\n",
       "      <th>4933</th>\n",
       "      <td>GMC</td>\n",
       "      <td>Savana 1500</td>\n",
       "      <td>2005.44</td>\n",
       "    </tr>\n",
       "    <tr>\n",
       "      <th>566</th>\n",
       "      <td>Jaguar</td>\n",
       "      <td>XF</td>\n",
       "      <td>2014.09</td>\n",
       "    </tr>\n",
       "    <tr>\n",
       "      <th>2538</th>\n",
       "      <td>Mitsubishi</td>\n",
       "      <td>3000GT</td>\n",
       "      <td>2017.24</td>\n",
       "    </tr>\n",
       "    <tr>\n",
       "      <th>5869</th>\n",
       "      <td>Infiniti</td>\n",
       "      <td>G37</td>\n",
       "      <td>2017.83</td>\n",
       "    </tr>\n",
       "  </tbody>\n",
       "</table>\n",
       "</div>"
      ],
      "text/plain": [
       "            Make        Model  Resell Price\n",
       "2446   Chevrolet         1500       2000.84\n",
       "4933         GMC  Savana 1500       2005.44\n",
       "566       Jaguar           XF       2014.09\n",
       "2538  Mitsubishi       3000GT       2017.24\n",
       "5869    Infiniti          G37       2017.83"
      ]
     },
     "execution_count": 58,
     "metadata": {},
     "output_type": "execute_result"
    }
   ],
   "source": [
    "resell_sorted.head()"
   ]
  },
  {
   "cell_type": "code",
   "execution_count": null,
   "id": "83609ee4",
   "metadata": {},
   "outputs": [],
   "source": [
    "#This is the list of the cars with the least Resell price."
   ]
  }
 ],
 "metadata": {
  "kernelspec": {
   "display_name": "Python 3",
   "language": "python",
   "name": "python3"
  },
  "language_info": {
   "codemirror_mode": {
    "name": "ipython",
    "version": 3
   },
   "file_extension": ".py",
   "mimetype": "text/x-python",
   "name": "python",
   "nbconvert_exporter": "python",
   "pygments_lexer": "ipython3",
   "version": "3.8.8"
  }
 },
 "nbformat": 4,
 "nbformat_minor": 5
}
