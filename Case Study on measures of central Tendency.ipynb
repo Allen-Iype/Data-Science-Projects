{
 "cells": [
  {
   "cell_type": "code",
   "execution_count": 3,
   "id": "00246950",
   "metadata": {},
   "outputs": [],
   "source": [
    "import pandas as pd\n",
    "import numpy as np\n",
    "import matplotlib.pyplot as plt\n",
    "import seaborn as sns\n"
   ]
  },
  {
   "cell_type": "markdown",
   "id": "dc9049c8",
   "metadata": {},
   "source": [
    "# Reading The Dataset"
   ]
  },
  {
   "cell_type": "code",
   "execution_count": 4,
   "id": "0ffa8b13",
   "metadata": {},
   "outputs": [],
   "source": [
    "df = pd.read_csv('StudentsPerformance.csv')"
   ]
  },
  {
   "cell_type": "code",
   "execution_count": 5,
   "id": "9d625276",
   "metadata": {},
   "outputs": [
    {
     "name": "stdout",
     "output_type": "stream",
     "text": [
      "     gender race/ethnicity parental level of education         lunch  \\\n",
      "0    female        group C            some high school  free/reduced   \n",
      "1    female        group B                 high school  free/reduced   \n",
      "2    female        group B            some high school  free/reduced   \n",
      "3    female        group B                some college      standard   \n",
      "4    female        group C                some college  free/reduced   \n",
      "..      ...            ...                         ...           ...   \n",
      "995    male        group E                some college      standard   \n",
      "996    male        group A                some college      standard   \n",
      "997    male        group D                some college      standard   \n",
      "998    male        group E          associate's degree  free/reduced   \n",
      "999    male        group E           bachelor's degree      standard   \n",
      "\n",
      "    test preparation course  math score  reading score  writing score  \n",
      "0                      none           0             17             10  \n",
      "1                      none           8             24             23  \n",
      "2                      none          18             32             28  \n",
      "3                      none          11             38             32  \n",
      "4                      none          22             39             33  \n",
      "..                      ...         ...            ...            ...  \n",
      "995               completed          99             87             81  \n",
      "996               completed         100             96             86  \n",
      "997               completed         100             97             99  \n",
      "998               completed         100            100             93  \n",
      "999               completed         100            100            100  \n",
      "\n",
      "[1000 rows x 8 columns]\n"
     ]
    }
   ],
   "source": [
    "print(df)"
   ]
  },
  {
   "cell_type": "markdown",
   "id": "12a9555a",
   "metadata": {},
   "source": [
    "# Males and Females Participated in the Test"
   ]
  },
  {
   "cell_type": "code",
   "execution_count": 6,
   "id": "a3e5ec86",
   "metadata": {},
   "outputs": [
    {
     "data": {
      "text/plain": [
       "female    518\n",
       "male      482\n",
       "Name: gender, dtype: int64"
      ]
     },
     "execution_count": 6,
     "metadata": {},
     "output_type": "execute_result"
    }
   ],
   "source": [
    "df['gender'].value_counts()"
   ]
  },
  {
   "cell_type": "code",
   "execution_count": 7,
   "id": "4a753cc2",
   "metadata": {},
   "outputs": [],
   "source": [
    "#Number of males and females participated in the test."
   ]
  },
  {
   "cell_type": "markdown",
   "id": "206681eb",
   "metadata": {},
   "source": [
    "# Level of Education\n"
   ]
  },
  {
   "cell_type": "code",
   "execution_count": 9,
   "id": "c9e7980e",
   "metadata": {},
   "outputs": [
    {
     "data": {
      "text/plain": [
       "some college          226\n",
       "associate's degree    222\n",
       "high school           196\n",
       "some high school      179\n",
       "bachelor's degree     118\n",
       "master's degree        59\n",
       "Name: parental level of education, dtype: int64"
      ]
     },
     "execution_count": 9,
     "metadata": {},
     "output_type": "execute_result"
    }
   ],
   "source": [
    "df['parental level of education'].value_counts()"
   ]
  },
  {
   "cell_type": "code",
   "execution_count": 10,
   "id": "1ce759c0",
   "metadata": {},
   "outputs": [],
   "source": [
    "#Most of the parents have some college education, which is followed by associate degree level of education. Only a small percentage of the parents have Master's degree."
   ]
  },
  {
   "cell_type": "code",
   "execution_count": 12,
   "id": "c99d277e",
   "metadata": {},
   "outputs": [
    {
     "name": "stdout",
     "output_type": "stream",
     "text": [
      "<class 'pandas.core.frame.DataFrame'>\n",
      "RangeIndex: 1000 entries, 0 to 999\n",
      "Data columns (total 8 columns):\n",
      " #   Column                       Non-Null Count  Dtype \n",
      "---  ------                       --------------  ----- \n",
      " 0   gender                       1000 non-null   object\n",
      " 1   race/ethnicity               1000 non-null   object\n",
      " 2   parental level of education  1000 non-null   object\n",
      " 3   lunch                        1000 non-null   object\n",
      " 4   test preparation course      1000 non-null   object\n",
      " 5   math score                   1000 non-null   int64 \n",
      " 6   reading score                1000 non-null   int64 \n",
      " 7   writing score                1000 non-null   int64 \n",
      "dtypes: int64(3), object(5)\n",
      "memory usage: 62.6+ KB\n"
     ]
    }
   ],
   "source": [
    "df.info()"
   ]
  },
  {
   "cell_type": "markdown",
   "id": "e3c86576",
   "metadata": {},
   "source": [
    "# Average for Math, Reading and Writing"
   ]
  },
  {
   "cell_type": "code",
   "execution_count": 54,
   "id": "08a9ad13",
   "metadata": {},
   "outputs": [],
   "source": [
    "df_math = df[['gender','test preparation course','math score']]"
   ]
  },
  {
   "cell_type": "code",
   "execution_count": 55,
   "id": "af018dfe",
   "metadata": {},
   "outputs": [
    {
     "name": "stdout",
     "output_type": "stream",
     "text": [
      "     gender test preparation course  math score\n",
      "0    female                    none           0\n",
      "1    female                    none           8\n",
      "2    female                    none          18\n",
      "3    female                    none          11\n",
      "4    female                    none          22\n",
      "..      ...                     ...         ...\n",
      "995    male               completed          99\n",
      "996    male               completed         100\n",
      "997    male               completed         100\n",
      "998    male               completed         100\n",
      "999    male               completed         100\n",
      "\n",
      "[1000 rows x 3 columns]\n"
     ]
    }
   ],
   "source": [
    "print(df_math)"
   ]
  },
  {
   "cell_type": "code",
   "execution_count": 31,
   "id": "4462f5ed",
   "metadata": {},
   "outputs": [
    {
     "data": {
      "text/plain": [
       "math score    66.001\n",
       "dtype: float64"
      ]
     },
     "execution_count": 31,
     "metadata": {},
     "output_type": "execute_result"
    }
   ],
   "source": [
    "df_math.mean()"
   ]
  },
  {
   "cell_type": "code",
   "execution_count": 37,
   "id": "490d23d3",
   "metadata": {},
   "outputs": [
    {
     "data": {
      "image/png": "[encoded data removed]",
      "text/plain": [
       "<Figure size 432x288 with 1 Axes>"
      ]
     },
     "metadata": {
      "needs_background": "light"
     },
     "output_type": "display_data"
    }
   ],
   "source": [
    "sns.barplot(x='gender',y='math score',hue='test preparation course',data=df_math).set(title='Math score plot')\n",
    "plt.xlabel('Gender')\n",
    "plt.ylabel('Math Score')\n",
    "plt.show()"
   ]
  },
  {
   "cell_type": "code",
   "execution_count": 39,
   "id": "8b047bc3",
   "metadata": {},
   "outputs": [],
   "source": [
    "df_read = df[['gender','test preparation course','reading score']]\n"
   ]
  },
  {
   "cell_type": "code",
   "execution_count": 40,
   "id": "a334a265",
   "metadata": {},
   "outputs": [
    {
     "name": "stdout",
     "output_type": "stream",
     "text": [
      "     gender test preparation course  reading score\n",
      "0    female                    none             17\n",
      "1    female                    none             24\n",
      "2    female                    none             32\n",
      "3    female                    none             38\n",
      "4    female                    none             39\n",
      "..      ...                     ...            ...\n",
      "995    male               completed             87\n",
      "996    male               completed             96\n",
      "997    male               completed             97\n",
      "998    male               completed            100\n",
      "999    male               completed            100\n",
      "\n",
      "[1000 rows x 3 columns]\n"
     ]
    }
   ],
   "source": [
    "print(df_read)"
   ]
  },
  {
   "cell_type": "code",
   "execution_count": 46,
   "id": "28032404",
   "metadata": {},
   "outputs": [
    {
     "data": {
      "text/plain": [
       "reading score    69.195\n",
       "dtype: float64"
      ]
     },
     "execution_count": 46,
     "metadata": {},
     "output_type": "execute_result"
    }
   ],
   "source": [
    "df_read.mean()"
   ]
  },
  {
   "cell_type": "code",
   "execution_count": 41,
   "id": "8edc266b",
   "metadata": {},
   "outputs": [
    {
     "data": {
      "image/png": "[encoded data removed]",
      "text/plain": [
       "<Figure size 432x288 with 1 Axes>"
      ]
     },
     "metadata": {
      "needs_background": "light"
     },
     "output_type": "display_data"
    }
   ],
   "source": [
    "sns.barplot(x='gender',y='reading score',hue='test preparation course',data=df_read).set(title='Reading score plot')\n",
    "plt.xlabel('Gender')\n",
    "plt.ylabel('Reading Score')\n",
    "plt.show()"
   ]
  },
  {
   "cell_type": "code",
   "execution_count": 42,
   "id": "e5733fab",
   "metadata": {},
   "outputs": [],
   "source": [
    "df_write = df[['gender','test preparation course','writing score']]"
   ]
  },
  {
   "cell_type": "code",
   "execution_count": 43,
   "id": "a9e30985",
   "metadata": {},
   "outputs": [
    {
     "name": "stdout",
     "output_type": "stream",
     "text": [
      "     gender test preparation course  writing score\n",
      "0    female                    none             10\n",
      "1    female                    none             23\n",
      "2    female                    none             28\n",
      "3    female                    none             32\n",
      "4    female                    none             33\n",
      "..      ...                     ...            ...\n",
      "995    male               completed             81\n",
      "996    male               completed             86\n",
      "997    male               completed             99\n",
      "998    male               completed             93\n",
      "999    male               completed            100\n",
      "\n",
      "[1000 rows x 3 columns]\n"
     ]
    }
   ],
   "source": [
    "print(df_write)"
   ]
  },
  {
   "cell_type": "code",
   "execution_count": 47,
   "id": "dabec706",
   "metadata": {},
   "outputs": [
    {
     "data": {
      "text/plain": [
       "writing score    68.119\n",
       "dtype: float64"
      ]
     },
     "execution_count": 47,
     "metadata": {},
     "output_type": "execute_result"
    }
   ],
   "source": [
    "df_write.mean()"
   ]
  },
  {
   "cell_type": "code",
   "execution_count": 45,
   "id": "1c910804",
   "metadata": {},
   "outputs": [
    {
     "data": {
      "image/png": "[encoded data removed]",
      "text/plain": [
       "<Figure size 432x288 with 1 Axes>"
      ]
     },
     "metadata": {
      "needs_background": "light"
     },
     "output_type": "display_data"
    }
   ],
   "source": [
    "sns.barplot(x='gender',y='writing score',hue='test preparation course',data=df_write).set(title='Writing score plot')\n",
    "plt.xlabel('Gender')\n",
    "plt.ylabel('Writing Score')\n",
    "plt.show()"
   ]
  },
  {
   "cell_type": "code",
   "execution_count": 48,
   "id": "b35dc5d4",
   "metadata": {},
   "outputs": [],
   "source": [
    "# from these graphs we can infer the comparison of each gender with different scores."
   ]
  },
  {
   "cell_type": "markdown",
   "id": "09499ecb",
   "metadata": {},
   "source": [
    "# Scoring Variation"
   ]
  },
  {
   "cell_type": "code",
   "execution_count": 50,
   "id": "74144d03",
   "metadata": {},
   "outputs": [],
   "source": [
    "df_subset = df[['gender','test preparation course','math score','reading score','writing score']]"
   ]
  },
  {
   "cell_type": "code",
   "execution_count": 51,
   "id": "a2149ff8",
   "metadata": {},
   "outputs": [
    {
     "name": "stdout",
     "output_type": "stream",
     "text": [
      "     gender test preparation course  math score  reading score  writing score\n",
      "0    female                    none           0             17             10\n",
      "1    female                    none           8             24             23\n",
      "2    female                    none          18             32             28\n",
      "3    female                    none          11             38             32\n",
      "4    female                    none          22             39             33\n",
      "..      ...                     ...         ...            ...            ...\n",
      "995    male               completed          99             87             81\n",
      "996    male               completed         100             96             86\n",
      "997    male               completed         100             97             99\n",
      "998    male               completed         100            100             93\n",
      "999    male               completed         100            100            100\n",
      "\n",
      "[1000 rows x 5 columns]\n"
     ]
    }
   ],
   "source": [
    "print(df_subset)"
   ]
  },
  {
   "cell_type": "code",
   "execution_count": 52,
   "id": "46be0dac",
   "metadata": {},
   "outputs": [
    {
     "data": {
      "text/html": [
       "<div>\n",
       "<style scoped>\n",
       "    .dataframe tbody tr th:only-of-type {\n",
       "        vertical-align: middle;\n",
       "    }\n",
       "\n",
       "    .dataframe tbody tr th {\n",
       "        vertical-align: top;\n",
       "    }\n",
       "\n",
       "    .dataframe thead th {\n",
       "        text-align: right;\n",
       "    }\n",
       "</style>\n",
       "<table border=\"1\" class=\"dataframe\">\n",
       "  <thead>\n",
       "    <tr style=\"text-align: right;\">\n",
       "      <th></th>\n",
       "      <th>math score</th>\n",
       "      <th>reading score</th>\n",
       "      <th>writing score</th>\n",
       "    </tr>\n",
       "  </thead>\n",
       "  <tbody>\n",
       "    <tr>\n",
       "      <th>count</th>\n",
       "      <td>1000.000000</td>\n",
       "      <td>1000.000000</td>\n",
       "      <td>1000.000000</td>\n",
       "    </tr>\n",
       "    <tr>\n",
       "      <th>mean</th>\n",
       "      <td>66.001000</td>\n",
       "      <td>69.195000</td>\n",
       "      <td>68.119000</td>\n",
       "    </tr>\n",
       "    <tr>\n",
       "      <th>std</th>\n",
       "      <td>15.569567</td>\n",
       "      <td>14.706436</td>\n",
       "      <td>15.226381</td>\n",
       "    </tr>\n",
       "    <tr>\n",
       "      <th>min</th>\n",
       "      <td>0.000000</td>\n",
       "      <td>17.000000</td>\n",
       "      <td>10.000000</td>\n",
       "    </tr>\n",
       "    <tr>\n",
       "      <th>25%</th>\n",
       "      <td>57.000000</td>\n",
       "      <td>59.000000</td>\n",
       "      <td>58.000000</td>\n",
       "    </tr>\n",
       "    <tr>\n",
       "      <th>50%</th>\n",
       "      <td>66.000000</td>\n",
       "      <td>70.000000</td>\n",
       "      <td>69.000000</td>\n",
       "    </tr>\n",
       "    <tr>\n",
       "      <th>75%</th>\n",
       "      <td>77.000000</td>\n",
       "      <td>79.250000</td>\n",
       "      <td>79.000000</td>\n",
       "    </tr>\n",
       "    <tr>\n",
       "      <th>max</th>\n",
       "      <td>100.000000</td>\n",
       "      <td>100.000000</td>\n",
       "      <td>100.000000</td>\n",
       "    </tr>\n",
       "  </tbody>\n",
       "</table>\n",
       "</div>"
      ],
      "text/plain": [
       "        math score  reading score  writing score\n",
       "count  1000.000000    1000.000000    1000.000000\n",
       "mean     66.001000      69.195000      68.119000\n",
       "std      15.569567      14.706436      15.226381\n",
       "min       0.000000      17.000000      10.000000\n",
       "25%      57.000000      59.000000      58.000000\n",
       "50%      66.000000      70.000000      69.000000\n",
       "75%      77.000000      79.250000      79.000000\n",
       "max     100.000000     100.000000     100.000000"
      ]
     },
     "execution_count": 52,
     "metadata": {},
     "output_type": "execute_result"
    }
   ],
   "source": [
    "df_subset.describe()"
   ]
  },
  {
   "cell_type": "code",
   "execution_count": 53,
   "id": "ee544f67",
   "metadata": {},
   "outputs": [],
   "source": [
    "# From this description we can infer that the standard deviation is 15.56 for math score, it is 14.706 for reading score and 15.226 for writing score."
   ]
  },
  {
   "cell_type": "markdown",
   "id": "de088f4b",
   "metadata": {},
   "source": [
    "# Helping Management "
   ]
  },
  {
   "cell_type": "code",
   "execution_count": 56,
   "id": "2982a6ae",
   "metadata": {},
   "outputs": [],
   "source": [
    "df_math_sorted = df_math.sort_values('math score')"
   ]
  },
  {
   "cell_type": "code",
   "execution_count": 57,
   "id": "8ea64750",
   "metadata": {},
   "outputs": [
    {
     "name": "stdout",
     "output_type": "stream",
     "text": [
      "     gender test preparation course  math score\n",
      "0    female                    none           0\n",
      "1    female                    none           8\n",
      "3    female                    none          11\n",
      "51   female                    none          13\n",
      "2    female                    none          18\n",
      "..      ...                     ...         ...\n",
      "516  female                    none         100\n",
      "998    male               completed         100\n",
      "515  female                    none         100\n",
      "517  female                    none         100\n",
      "999    male               completed         100\n",
      "\n",
      "[1000 rows x 3 columns]\n"
     ]
    }
   ],
   "source": [
    "print(df_math_sorted)"
   ]
  },
  {
   "cell_type": "code",
   "execution_count": 58,
   "id": "5660b76f",
   "metadata": {},
   "outputs": [
    {
     "data": {
      "text/html": [
       "<div>\n",
       "<style scoped>\n",
       "    .dataframe tbody tr th:only-of-type {\n",
       "        vertical-align: middle;\n",
       "    }\n",
       "\n",
       "    .dataframe tbody tr th {\n",
       "        vertical-align: top;\n",
       "    }\n",
       "\n",
       "    .dataframe thead th {\n",
       "        text-align: right;\n",
       "    }\n",
       "</style>\n",
       "<table border=\"1\" class=\"dataframe\">\n",
       "  <thead>\n",
       "    <tr style=\"text-align: right;\">\n",
       "      <th></th>\n",
       "      <th>gender</th>\n",
       "      <th>test preparation course</th>\n",
       "      <th>math score</th>\n",
       "    </tr>\n",
       "  </thead>\n",
       "  <tbody>\n",
       "    <tr>\n",
       "      <th>852</th>\n",
       "      <td>male</td>\n",
       "      <td>none</td>\n",
       "      <td>77</td>\n",
       "    </tr>\n",
       "    <tr>\n",
       "      <th>853</th>\n",
       "      <td>male</td>\n",
       "      <td>none</td>\n",
       "      <td>77</td>\n",
       "    </tr>\n",
       "    <tr>\n",
       "      <th>854</th>\n",
       "      <td>male</td>\n",
       "      <td>completed</td>\n",
       "      <td>77</td>\n",
       "    </tr>\n",
       "    <tr>\n",
       "      <th>855</th>\n",
       "      <td>male</td>\n",
       "      <td>completed</td>\n",
       "      <td>77</td>\n",
       "    </tr>\n",
       "    <tr>\n",
       "      <th>856</th>\n",
       "      <td>male</td>\n",
       "      <td>completed</td>\n",
       "      <td>77</td>\n",
       "    </tr>\n",
       "    <tr>\n",
       "      <th>...</th>\n",
       "      <td>...</td>\n",
       "      <td>...</td>\n",
       "      <td>...</td>\n",
       "    </tr>\n",
       "    <tr>\n",
       "      <th>516</th>\n",
       "      <td>female</td>\n",
       "      <td>none</td>\n",
       "      <td>100</td>\n",
       "    </tr>\n",
       "    <tr>\n",
       "      <th>998</th>\n",
       "      <td>male</td>\n",
       "      <td>completed</td>\n",
       "      <td>100</td>\n",
       "    </tr>\n",
       "    <tr>\n",
       "      <th>515</th>\n",
       "      <td>female</td>\n",
       "      <td>none</td>\n",
       "      <td>100</td>\n",
       "    </tr>\n",
       "    <tr>\n",
       "      <th>517</th>\n",
       "      <td>female</td>\n",
       "      <td>none</td>\n",
       "      <td>100</td>\n",
       "    </tr>\n",
       "    <tr>\n",
       "      <th>999</th>\n",
       "      <td>male</td>\n",
       "      <td>completed</td>\n",
       "      <td>100</td>\n",
       "    </tr>\n",
       "  </tbody>\n",
       "</table>\n",
       "<p>250 rows × 3 columns</p>\n",
       "</div>"
      ],
      "text/plain": [
       "     gender test preparation course  math score\n",
       "852    male                    none          77\n",
       "853    male                    none          77\n",
       "854    male               completed          77\n",
       "855    male               completed          77\n",
       "856    male               completed          77\n",
       "..      ...                     ...         ...\n",
       "516  female                    none         100\n",
       "998    male               completed         100\n",
       "515  female                    none         100\n",
       "517  female                    none         100\n",
       "999    male               completed         100\n",
       "\n",
       "[250 rows x 3 columns]"
      ]
     },
     "execution_count": 58,
     "metadata": {},
     "output_type": "execute_result"
    }
   ],
   "source": [
    "df_math_sorted.tail(250)"
   ]
  },
  {
   "cell_type": "code",
   "execution_count": 59,
   "id": "1f5492d7",
   "metadata": {},
   "outputs": [],
   "source": [
    "# Here we sorted the dataset according to the math score and found the top 25% from that list."
   ]
  },
  {
   "cell_type": "code",
   "execution_count": null,
   "id": "c50b41a2",
   "metadata": {},
   "outputs": [],
   "source": []
  }
 ],
 "metadata": {
  "kernelspec": {
   "display_name": "Python 3",
   "language": "python",
   "name": "python3"
  },
  "language_info": {
   "codemirror_mode": {
    "name": "ipython",
    "version": 3
   },
   "file_extension": ".py",
   "mimetype": "text/x-python",
   "name": "python",
   "nbconvert_exporter": "python",
   "pygments_lexer": "ipython3",
   "version": "3.8.8"
  }
 },
 "nbformat": 4,
 "nbformat_minor": 5
}
